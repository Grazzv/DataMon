{
 "cells": [
  {
   "cell_type": "markdown",
   "id": "69f1d7aabcbe69f",
   "metadata": {},
   "source": [
    "# O projeto é uma análise de dados que deve conter as seguintes etapas:\n",
    "\n",
    "•\tCarregar e ler arquivos .csv, xlsx ou de um banco de dados;\n",
    "\n",
    "•\tAvaliar a necessidade da transformação da variável em outra escala (agrupar idade por faixas, por exemplo);\n",
    "\n",
    "•\tRealizar a codificação das variáveis categóricas conforme os valores das variáveis (label encoder, one hot encoder ou target encoder);\n",
    "\n",
    "•\tNormalizar as variáveis;\n",
    "\n",
    "•\tAvaliar a necessidade de realizar o balanceamento da variável alvo;\n",
    "\n",
    "•\tTratar variáveis com alta correlação;\n",
    "\n",
    "•\tRealizar a seleção de variáveis;\n",
    "\n",
    "•\tAplicar um modelo de regressão ou classificação utilizando uma técnica de hiperparametrização automática;\n",
    "\n",
    "•\tAplicar uma medida de avaliação do modelo.\n",
    "\n",
    "•\tGerar uma visualização para o resultado conforme os tipos abaixo:\n",
    "    - Agrupamento: gerar a visualização Scatter;\n",
    "    - Classificação: gerar a matriz de confusão; \n",
    "    - Regressão: gerar a visualização da linha de saída.\n"
   ]
  },
  {
   "cell_type": "markdown",
   "id": "20c35760",
   "metadata": {},
   "source": [
    "  Importando Bibliotecas"
   ]
  },
  {
   "cell_type": "code",
   "execution_count": 3,
   "id": "initial_id",
   "metadata": {
    "ExecuteTime": {
     "end_time": "2024-05-14T00:05:13.579894Z",
     "start_time": "2024-05-14T00:05:12.895850Z"
    },
    "collapsed": true
   },
   "outputs": [],
   "source": [
    "# DataFrame\n",
    "import pandas as pd # O 'as' é um alias, um apelido. Ao invés de escrever 'pandas', escrevemos 'pd'\n",
    "import numpy as np\n",
    "\n",
    "# Modelos de ML\n",
    "from sklearn.cluster import MiniBatchKMeans\n",
    "from imblearn.over_sampling import SMOTE, RandomOverSampler, ADASYN, BorderlineSMOTE, KMeansSMOTE, SVMSMOTE\n",
    "from imblearn.under_sampling import ClusterCentroids, CondensedNearestNeighbour, EditedNearestNeighbours\n",
    "from imblearn.under_sampling import RepeatedEditedNearestNeighbours, TomekLinks, AllKNN, InstanceHardnessThreshold\n",
    "from imblearn.under_sampling import NearMiss, NeighbourhoodCleaningRule, OneSidedSelection, RandomUnderSampler\n",
    "from sklearn.model_selection import train_test_split\n",
    "from sklearn.preprocessing import MinMaxScaler\n",
    "from sklearn.neighbors import KNeighborsClassifier\n",
    "from sklearn.linear_model import LogisticRegression\n",
    "from sklearn.svm import SVC\n",
    "\n",
    "# Métricas\n",
    "from sklearn.metrics import accuracy_score, precision_score, recall_score, roc_auc_score, roc_curve\n",
    "\n",
    "# Visualização\n",
    "import matplotlib.pyplot as plt\n",
    "import seaborn as sns"
   ]
  },
  {
   "cell_type": "markdown",
   "id": "7af1623610e307ea",
   "metadata": {},
   "source": []
  },
  {
   "cell_type": "markdown",
   "id": "624b03c2223eeed1",
   "metadata": {},
   "source": [
    "# 1. Carregar o arquivo .csv usando o pd.read_csv()"
   ]
  },
  {
   "cell_type": "code",
   "execution_count": 4,
   "id": "ec4fd384d118b98c",
   "metadata": {
    "ExecuteTime": {
     "end_time": "2024-05-14T00:05:13.609907Z",
     "start_time": "2024-05-14T00:05:13.580891Z"
    }
   },
   "outputs": [
    {
     "data": {
      "text/html": [
       "<div>\n",
       "<style scoped>\n",
       "    .dataframe tbody tr th:only-of-type {\n",
       "        vertical-align: middle;\n",
       "    }\n",
       "\n",
       "    .dataframe tbody tr th {\n",
       "        vertical-align: top;\n",
       "    }\n",
       "\n",
       "    .dataframe thead th {\n",
       "        text-align: right;\n",
       "    }\n",
       "</style>\n",
       "<table border=\"1\" class=\"dataframe\">\n",
       "  <thead>\n",
       "    <tr style=\"text-align: right;\">\n",
       "      <th></th>\n",
       "      <th>#</th>\n",
       "      <th>Name</th>\n",
       "      <th>Type 1</th>\n",
       "      <th>Type 2</th>\n",
       "      <th>Total</th>\n",
       "      <th>HP</th>\n",
       "      <th>Attack</th>\n",
       "      <th>Defense</th>\n",
       "      <th>Sp. Atk</th>\n",
       "      <th>Sp. Def</th>\n",
       "      <th>Speed</th>\n",
       "      <th>Generation</th>\n",
       "      <th>Legendary</th>\n",
       "    </tr>\n",
       "  </thead>\n",
       "  <tbody>\n",
       "    <tr>\n",
       "      <th>0</th>\n",
       "      <td>1</td>\n",
       "      <td>Bulbasaur</td>\n",
       "      <td>Grass</td>\n",
       "      <td>Poison</td>\n",
       "      <td>318</td>\n",
       "      <td>45</td>\n",
       "      <td>49</td>\n",
       "      <td>49</td>\n",
       "      <td>65</td>\n",
       "      <td>65</td>\n",
       "      <td>45</td>\n",
       "      <td>1</td>\n",
       "      <td>False</td>\n",
       "    </tr>\n",
       "    <tr>\n",
       "      <th>1</th>\n",
       "      <td>2</td>\n",
       "      <td>Ivysaur</td>\n",
       "      <td>Grass</td>\n",
       "      <td>Poison</td>\n",
       "      <td>405</td>\n",
       "      <td>60</td>\n",
       "      <td>62</td>\n",
       "      <td>63</td>\n",
       "      <td>80</td>\n",
       "      <td>80</td>\n",
       "      <td>60</td>\n",
       "      <td>1</td>\n",
       "      <td>False</td>\n",
       "    </tr>\n",
       "    <tr>\n",
       "      <th>2</th>\n",
       "      <td>3</td>\n",
       "      <td>Venusaur</td>\n",
       "      <td>Grass</td>\n",
       "      <td>Poison</td>\n",
       "      <td>525</td>\n",
       "      <td>80</td>\n",
       "      <td>82</td>\n",
       "      <td>83</td>\n",
       "      <td>100</td>\n",
       "      <td>100</td>\n",
       "      <td>80</td>\n",
       "      <td>1</td>\n",
       "      <td>False</td>\n",
       "    </tr>\n",
       "    <tr>\n",
       "      <th>3</th>\n",
       "      <td>3</td>\n",
       "      <td>VenusaurMega Venusaur</td>\n",
       "      <td>Grass</td>\n",
       "      <td>Poison</td>\n",
       "      <td>625</td>\n",
       "      <td>80</td>\n",
       "      <td>100</td>\n",
       "      <td>123</td>\n",
       "      <td>122</td>\n",
       "      <td>120</td>\n",
       "      <td>80</td>\n",
       "      <td>1</td>\n",
       "      <td>False</td>\n",
       "    </tr>\n",
       "    <tr>\n",
       "      <th>4</th>\n",
       "      <td>4</td>\n",
       "      <td>Charmander</td>\n",
       "      <td>Fire</td>\n",
       "      <td>NaN</td>\n",
       "      <td>309</td>\n",
       "      <td>39</td>\n",
       "      <td>52</td>\n",
       "      <td>43</td>\n",
       "      <td>60</td>\n",
       "      <td>50</td>\n",
       "      <td>65</td>\n",
       "      <td>1</td>\n",
       "      <td>False</td>\n",
       "    </tr>\n",
       "  </tbody>\n",
       "</table>\n",
       "</div>"
      ],
      "text/plain": [
       "   #                   Name Type 1  Type 2  Total  HP  Attack  Defense  \\\n",
       "0  1              Bulbasaur  Grass  Poison    318  45      49       49   \n",
       "1  2                Ivysaur  Grass  Poison    405  60      62       63   \n",
       "2  3               Venusaur  Grass  Poison    525  80      82       83   \n",
       "3  3  VenusaurMega Venusaur  Grass  Poison    625  80     100      123   \n",
       "4  4             Charmander   Fire     NaN    309  39      52       43   \n",
       "\n",
       "   Sp. Atk  Sp. Def  Speed  Generation  Legendary  \n",
       "0       65       65     45           1      False  \n",
       "1       80       80     60           1      False  \n",
       "2      100      100     80           1      False  \n",
       "3      122      120     80           1      False  \n",
       "4       60       50     65           1      False  "
      ]
     },
     "execution_count": 4,
     "metadata": {},
     "output_type": "execute_result"
    }
   ],
   "source": [
    "df = pd.read_csv('Pokemon.csv') # Lê o arquivo .csv e armazena em um DataFrame\n",
    "df.head() #  Traz os 5 primeiros registros do DataFrame"
   ]
  },
  {
   "cell_type": "markdown",
   "id": "24a92277808d4be4",
   "metadata": {},
   "source": [
    "# 2. Avaliar a necessidade da transformação da variável em outra escala (agrupar idade por faixas, por exemplo)\n",
    "\n",
    "Não vimos necessidade de escalar as variáveis, pois o dataset é pequeno e autoexplicativo."
   ]
  },
  {
   "cell_type": "code",
   "execution_count": 5,
   "id": "4e7471a5b9d876e0",
   "metadata": {
    "ExecuteTime": {
     "end_time": "2024-05-14T00:05:13.632070Z",
     "start_time": "2024-05-14T00:05:13.610906Z"
    }
   },
   "outputs": [
    {
     "data": {
      "text/html": [
       "<div>\n",
       "<style scoped>\n",
       "    .dataframe tbody tr th:only-of-type {\n",
       "        vertical-align: middle;\n",
       "    }\n",
       "\n",
       "    .dataframe tbody tr th {\n",
       "        vertical-align: top;\n",
       "    }\n",
       "\n",
       "    .dataframe thead th {\n",
       "        text-align: right;\n",
       "    }\n",
       "</style>\n",
       "<table border=\"1\" class=\"dataframe\">\n",
       "  <thead>\n",
       "    <tr style=\"text-align: right;\">\n",
       "      <th></th>\n",
       "      <th>nome</th>\n",
       "      <th>tipo_1</th>\n",
       "      <th>tipo_2</th>\n",
       "      <th>total</th>\n",
       "      <th>hp</th>\n",
       "      <th>ataque</th>\n",
       "      <th>defesa</th>\n",
       "      <th>sp_atq</th>\n",
       "      <th>sp_def</th>\n",
       "      <th>velocidade</th>\n",
       "      <th>geracao</th>\n",
       "      <th>lendario</th>\n",
       "    </tr>\n",
       "  </thead>\n",
       "  <tbody>\n",
       "    <tr>\n",
       "      <th>0</th>\n",
       "      <td>Bulbasaur</td>\n",
       "      <td>Grass</td>\n",
       "      <td>Poison</td>\n",
       "      <td>318</td>\n",
       "      <td>45</td>\n",
       "      <td>49</td>\n",
       "      <td>49</td>\n",
       "      <td>65</td>\n",
       "      <td>65</td>\n",
       "      <td>45</td>\n",
       "      <td>1</td>\n",
       "      <td>False</td>\n",
       "    </tr>\n",
       "    <tr>\n",
       "      <th>1</th>\n",
       "      <td>Ivysaur</td>\n",
       "      <td>Grass</td>\n",
       "      <td>Poison</td>\n",
       "      <td>405</td>\n",
       "      <td>60</td>\n",
       "      <td>62</td>\n",
       "      <td>63</td>\n",
       "      <td>80</td>\n",
       "      <td>80</td>\n",
       "      <td>60</td>\n",
       "      <td>1</td>\n",
       "      <td>False</td>\n",
       "    </tr>\n",
       "    <tr>\n",
       "      <th>2</th>\n",
       "      <td>Venusaur</td>\n",
       "      <td>Grass</td>\n",
       "      <td>Poison</td>\n",
       "      <td>525</td>\n",
       "      <td>80</td>\n",
       "      <td>82</td>\n",
       "      <td>83</td>\n",
       "      <td>100</td>\n",
       "      <td>100</td>\n",
       "      <td>80</td>\n",
       "      <td>1</td>\n",
       "      <td>False</td>\n",
       "    </tr>\n",
       "    <tr>\n",
       "      <th>3</th>\n",
       "      <td>VenusaurMega Venusaur</td>\n",
       "      <td>Grass</td>\n",
       "      <td>Poison</td>\n",
       "      <td>625</td>\n",
       "      <td>80</td>\n",
       "      <td>100</td>\n",
       "      <td>123</td>\n",
       "      <td>122</td>\n",
       "      <td>120</td>\n",
       "      <td>80</td>\n",
       "      <td>1</td>\n",
       "      <td>False</td>\n",
       "    </tr>\n",
       "    <tr>\n",
       "      <th>4</th>\n",
       "      <td>Charmander</td>\n",
       "      <td>Fire</td>\n",
       "      <td>NaN</td>\n",
       "      <td>309</td>\n",
       "      <td>39</td>\n",
       "      <td>52</td>\n",
       "      <td>43</td>\n",
       "      <td>60</td>\n",
       "      <td>50</td>\n",
       "      <td>65</td>\n",
       "      <td>1</td>\n",
       "      <td>False</td>\n",
       "    </tr>\n",
       "  </tbody>\n",
       "</table>\n",
       "</div>"
      ],
      "text/plain": [
       "                    nome tipo_1  tipo_2  total  hp  ataque  defesa  sp_atq  \\\n",
       "0              Bulbasaur  Grass  Poison    318  45      49      49      65   \n",
       "1                Ivysaur  Grass  Poison    405  60      62      63      80   \n",
       "2               Venusaur  Grass  Poison    525  80      82      83     100   \n",
       "3  VenusaurMega Venusaur  Grass  Poison    625  80     100     123     122   \n",
       "4             Charmander   Fire     NaN    309  39      52      43      60   \n",
       "\n",
       "   sp_def  velocidade  geracao  lendario  \n",
       "0      65          45        1     False  \n",
       "1      80          60        1     False  \n",
       "2     100          80        1     False  \n",
       "3     120          80        1     False  \n",
       "4      50          65        1     False  "
      ]
     },
     "execution_count": 5,
     "metadata": {},
     "output_type": "execute_result"
    }
   ],
   "source": [
    "df.drop(['#'], axis=1, inplace=True) # Remove a coluna '#'; o axis 1 indica que é uma coluna, se fosse 0, indicaria que é uma linha; inplace=True indica que a alteração é feita no próprio DataFrame\n",
    "colunas = ['nome', 'tipo_1', 'tipo_2', 'total', 'hp', 'ataque', 'defesa', 'sp_atq', 'sp_def', 'velocidade', 'geracao', 'lendario'] # traduzindo as colunas e renomeando de uma forma mais amigável para o modelo, tirando espaços e maiúsculas\n",
    "df.columns = colunas # Renomeia as colunas do DataFrame\n",
    "df.head()"
   ]
  },
  {
   "cell_type": "markdown",
   "id": "d13cb94e4e6d022a",
   "metadata": {},
   "source": []
  },
  {
   "cell_type": "markdown",
   "id": "8132eefd8e43e8ec",
   "metadata": {},
   "source": [
    "# 3. Realizar a codificação das variáveis categóricas de acordo com os valores das variáveis (label encoder, one hot encoder ou target encoder)"
   ]
  },
  {
   "cell_type": "code",
   "execution_count": 6,
   "id": "3b9b8f4442105a2e",
   "metadata": {
    "ExecuteTime": {
     "end_time": "2024-05-14T00:05:13.648583Z",
     "start_time": "2024-05-14T00:05:13.633066Z"
    }
   },
   "outputs": [
    {
     "data": {
      "text/html": [
       "<div>\n",
       "<style scoped>\n",
       "    .dataframe tbody tr th:only-of-type {\n",
       "        vertical-align: middle;\n",
       "    }\n",
       "\n",
       "    .dataframe tbody tr th {\n",
       "        vertical-align: top;\n",
       "    }\n",
       "\n",
       "    .dataframe thead th {\n",
       "        text-align: right;\n",
       "    }\n",
       "</style>\n",
       "<table border=\"1\" class=\"dataframe\">\n",
       "  <thead>\n",
       "    <tr style=\"text-align: right;\">\n",
       "      <th></th>\n",
       "      <th>nome</th>\n",
       "      <th>tipo_1</th>\n",
       "      <th>tipo_2</th>\n",
       "      <th>total</th>\n",
       "      <th>hp</th>\n",
       "      <th>ataque</th>\n",
       "      <th>defesa</th>\n",
       "      <th>sp_atq</th>\n",
       "      <th>sp_def</th>\n",
       "      <th>velocidade</th>\n",
       "      <th>geracao</th>\n",
       "      <th>lendario</th>\n",
       "    </tr>\n",
       "  </thead>\n",
       "  <tbody>\n",
       "    <tr>\n",
       "      <th>0</th>\n",
       "      <td>Bulbasaur</td>\n",
       "      <td>Grass</td>\n",
       "      <td>Poison</td>\n",
       "      <td>318</td>\n",
       "      <td>45</td>\n",
       "      <td>49</td>\n",
       "      <td>49</td>\n",
       "      <td>65</td>\n",
       "      <td>65</td>\n",
       "      <td>45</td>\n",
       "      <td>1</td>\n",
       "      <td>0</td>\n",
       "    </tr>\n",
       "    <tr>\n",
       "      <th>1</th>\n",
       "      <td>Ivysaur</td>\n",
       "      <td>Grass</td>\n",
       "      <td>Poison</td>\n",
       "      <td>405</td>\n",
       "      <td>60</td>\n",
       "      <td>62</td>\n",
       "      <td>63</td>\n",
       "      <td>80</td>\n",
       "      <td>80</td>\n",
       "      <td>60</td>\n",
       "      <td>1</td>\n",
       "      <td>0</td>\n",
       "    </tr>\n",
       "    <tr>\n",
       "      <th>2</th>\n",
       "      <td>Venusaur</td>\n",
       "      <td>Grass</td>\n",
       "      <td>Poison</td>\n",
       "      <td>525</td>\n",
       "      <td>80</td>\n",
       "      <td>82</td>\n",
       "      <td>83</td>\n",
       "      <td>100</td>\n",
       "      <td>100</td>\n",
       "      <td>80</td>\n",
       "      <td>1</td>\n",
       "      <td>0</td>\n",
       "    </tr>\n",
       "    <tr>\n",
       "      <th>3</th>\n",
       "      <td>VenusaurMega Venusaur</td>\n",
       "      <td>Grass</td>\n",
       "      <td>Poison</td>\n",
       "      <td>625</td>\n",
       "      <td>80</td>\n",
       "      <td>100</td>\n",
       "      <td>123</td>\n",
       "      <td>122</td>\n",
       "      <td>120</td>\n",
       "      <td>80</td>\n",
       "      <td>1</td>\n",
       "      <td>0</td>\n",
       "    </tr>\n",
       "    <tr>\n",
       "      <th>4</th>\n",
       "      <td>Charmander</td>\n",
       "      <td>Fire</td>\n",
       "      <td>NaN</td>\n",
       "      <td>309</td>\n",
       "      <td>39</td>\n",
       "      <td>52</td>\n",
       "      <td>43</td>\n",
       "      <td>60</td>\n",
       "      <td>50</td>\n",
       "      <td>65</td>\n",
       "      <td>1</td>\n",
       "      <td>0</td>\n",
       "    </tr>\n",
       "  </tbody>\n",
       "</table>\n",
       "</div>"
      ],
      "text/plain": [
       "                    nome tipo_1  tipo_2  total  hp  ataque  defesa  sp_atq  \\\n",
       "0              Bulbasaur  Grass  Poison    318  45      49      49      65   \n",
       "1                Ivysaur  Grass  Poison    405  60      62      63      80   \n",
       "2               Venusaur  Grass  Poison    525  80      82      83     100   \n",
       "3  VenusaurMega Venusaur  Grass  Poison    625  80     100     123     122   \n",
       "4             Charmander   Fire     NaN    309  39      52      43      60   \n",
       "\n",
       "   sp_def  velocidade  geracao  lendario  \n",
       "0      65          45        1         0  \n",
       "1      80          60        1         0  \n",
       "2     100          80        1         0  \n",
       "3     120          80        1         0  \n",
       "4      50          65        1         0  "
      ]
     },
     "execution_count": 6,
     "metadata": {},
     "output_type": "execute_result"
    }
   ],
   "source": [
    "# Label Encoder\n",
    "\n",
    "from sklearn.preprocessing import LabelEncoder # Importa a classe LabelEncoder do módulo preprocessing da biblioteca sklearn\n",
    "\n",
    "le = LabelEncoder() # O LabelEncoder faz sentido quando a variável categórica é ordinal, ou seja, tem uma ordem natural. O pokemon tem mais 'peso' por ser lendário.\n",
    "\n",
    "df['lendario'] = le.fit_transform(df['lendario']) # Transforma os valores da coluna lendario em valores numéricos [0-1]\n",
    "df.head()"
   ]
  },
  {
   "cell_type": "markdown",
   "id": "40082ca409c6ffa",
   "metadata": {},
   "source": [
    "# 4. Normalizar as variáveis"
   ]
  },
  {
   "cell_type": "code",
   "execution_count": 7,
   "id": "be97192ba2625209",
   "metadata": {
    "ExecuteTime": {
     "end_time": "2024-05-14T00:05:13.683349Z",
     "start_time": "2024-05-14T00:05:13.650579Z"
    }
   },
   "outputs": [
    {
     "data": {
      "text/html": [
       "<div>\n",
       "<style scoped>\n",
       "    .dataframe tbody tr th:only-of-type {\n",
       "        vertical-align: middle;\n",
       "    }\n",
       "\n",
       "    .dataframe tbody tr th {\n",
       "        vertical-align: top;\n",
       "    }\n",
       "\n",
       "    .dataframe thead th {\n",
       "        text-align: right;\n",
       "    }\n",
       "</style>\n",
       "<table border=\"1\" class=\"dataframe\">\n",
       "  <thead>\n",
       "    <tr style=\"text-align: right;\">\n",
       "      <th></th>\n",
       "      <th>total</th>\n",
       "      <th>hp</th>\n",
       "      <th>ataque</th>\n",
       "      <th>defesa</th>\n",
       "      <th>sp_atq</th>\n",
       "      <th>sp_def</th>\n",
       "      <th>velocidade</th>\n",
       "      <th>geracao</th>\n",
       "      <th>lendario</th>\n",
       "    </tr>\n",
       "  </thead>\n",
       "  <tbody>\n",
       "    <tr>\n",
       "      <th>count</th>\n",
       "      <td>800.00000</td>\n",
       "      <td>800.000000</td>\n",
       "      <td>800.000000</td>\n",
       "      <td>800.000000</td>\n",
       "      <td>800.000000</td>\n",
       "      <td>800.000000</td>\n",
       "      <td>800.000000</td>\n",
       "      <td>800.00000</td>\n",
       "      <td>800.00000</td>\n",
       "    </tr>\n",
       "    <tr>\n",
       "      <th>mean</th>\n",
       "      <td>435.10250</td>\n",
       "      <td>69.258750</td>\n",
       "      <td>79.001250</td>\n",
       "      <td>73.842500</td>\n",
       "      <td>72.820000</td>\n",
       "      <td>71.902500</td>\n",
       "      <td>68.277500</td>\n",
       "      <td>3.32375</td>\n",
       "      <td>0.08125</td>\n",
       "    </tr>\n",
       "    <tr>\n",
       "      <th>std</th>\n",
       "      <td>119.96304</td>\n",
       "      <td>25.534669</td>\n",
       "      <td>32.457366</td>\n",
       "      <td>31.183501</td>\n",
       "      <td>32.722294</td>\n",
       "      <td>27.828916</td>\n",
       "      <td>29.060474</td>\n",
       "      <td>1.66129</td>\n",
       "      <td>0.27339</td>\n",
       "    </tr>\n",
       "    <tr>\n",
       "      <th>min</th>\n",
       "      <td>180.00000</td>\n",
       "      <td>1.000000</td>\n",
       "      <td>5.000000</td>\n",
       "      <td>5.000000</td>\n",
       "      <td>10.000000</td>\n",
       "      <td>20.000000</td>\n",
       "      <td>5.000000</td>\n",
       "      <td>1.00000</td>\n",
       "      <td>0.00000</td>\n",
       "    </tr>\n",
       "    <tr>\n",
       "      <th>25%</th>\n",
       "      <td>330.00000</td>\n",
       "      <td>50.000000</td>\n",
       "      <td>55.000000</td>\n",
       "      <td>50.000000</td>\n",
       "      <td>49.750000</td>\n",
       "      <td>50.000000</td>\n",
       "      <td>45.000000</td>\n",
       "      <td>2.00000</td>\n",
       "      <td>0.00000</td>\n",
       "    </tr>\n",
       "    <tr>\n",
       "      <th>50%</th>\n",
       "      <td>450.00000</td>\n",
       "      <td>65.000000</td>\n",
       "      <td>75.000000</td>\n",
       "      <td>70.000000</td>\n",
       "      <td>65.000000</td>\n",
       "      <td>70.000000</td>\n",
       "      <td>65.000000</td>\n",
       "      <td>3.00000</td>\n",
       "      <td>0.00000</td>\n",
       "    </tr>\n",
       "    <tr>\n",
       "      <th>75%</th>\n",
       "      <td>515.00000</td>\n",
       "      <td>80.000000</td>\n",
       "      <td>100.000000</td>\n",
       "      <td>90.000000</td>\n",
       "      <td>95.000000</td>\n",
       "      <td>90.000000</td>\n",
       "      <td>90.000000</td>\n",
       "      <td>5.00000</td>\n",
       "      <td>0.00000</td>\n",
       "    </tr>\n",
       "    <tr>\n",
       "      <th>max</th>\n",
       "      <td>780.00000</td>\n",
       "      <td>255.000000</td>\n",
       "      <td>190.000000</td>\n",
       "      <td>230.000000</td>\n",
       "      <td>194.000000</td>\n",
       "      <td>230.000000</td>\n",
       "      <td>180.000000</td>\n",
       "      <td>6.00000</td>\n",
       "      <td>1.00000</td>\n",
       "    </tr>\n",
       "  </tbody>\n",
       "</table>\n",
       "</div>"
      ],
      "text/plain": [
       "           total          hp      ataque      defesa      sp_atq      sp_def  \\\n",
       "count  800.00000  800.000000  800.000000  800.000000  800.000000  800.000000   \n",
       "mean   435.10250   69.258750   79.001250   73.842500   72.820000   71.902500   \n",
       "std    119.96304   25.534669   32.457366   31.183501   32.722294   27.828916   \n",
       "min    180.00000    1.000000    5.000000    5.000000   10.000000   20.000000   \n",
       "25%    330.00000   50.000000   55.000000   50.000000   49.750000   50.000000   \n",
       "50%    450.00000   65.000000   75.000000   70.000000   65.000000   70.000000   \n",
       "75%    515.00000   80.000000  100.000000   90.000000   95.000000   90.000000   \n",
       "max    780.00000  255.000000  190.000000  230.000000  194.000000  230.000000   \n",
       "\n",
       "       velocidade    geracao   lendario  \n",
       "count  800.000000  800.00000  800.00000  \n",
       "mean    68.277500    3.32375    0.08125  \n",
       "std     29.060474    1.66129    0.27339  \n",
       "min      5.000000    1.00000    0.00000  \n",
       "25%     45.000000    2.00000    0.00000  \n",
       "50%     65.000000    3.00000    0.00000  \n",
       "75%     90.000000    5.00000    0.00000  \n",
       "max    180.000000    6.00000    1.00000  "
      ]
     },
     "execution_count": 7,
     "metadata": {},
     "output_type": "execute_result"
    }
   ],
   "source": [
    "# Antes, uma análise descritiva do DataFrame, é bom para observar valores discrepantes, outliers, e ter uma noção da distribuição dos dados.\n",
    "df.describe()"
   ]
  },
  {
   "cell_type": "code",
   "execution_count": 8,
   "id": "538c3654d46c08ef",
   "metadata": {
    "ExecuteTime": {
     "end_time": "2024-05-14T00:05:13.692044Z",
     "start_time": "2024-05-14T00:05:13.685332Z"
    }
   },
   "outputs": [
    {
     "data": {
      "text/plain": [
       "nome          0\n",
       "tipo_1        0\n",
       "tipo_2        0\n",
       "total         0\n",
       "hp            0\n",
       "ataque        0\n",
       "defesa        0\n",
       "sp_atq        0\n",
       "sp_def        0\n",
       "velocidade    0\n",
       "geracao       0\n",
       "lendario      0\n",
       "dtype: int64"
      ]
     },
     "execution_count": 8,
     "metadata": {},
     "output_type": "execute_result"
    }
   ],
   "source": [
    "# Antes, vamos tratar os NaN da coluna do tipo_2, pois muitos pokemons não tem 2 tipos de categorias.\n",
    "\n",
    "df['tipo_2'].fillna('None', inplace=True) # Preenche os valores NaN da coluna tipo_2 com 'None'\n",
    "df.isna().sum() # Verifica se há valores NaN no DataFrame"
   ]
  },
  {
   "cell_type": "code",
   "execution_count": 9,
   "id": "e49b9d9624d33e82",
   "metadata": {
    "ExecuteTime": {
     "end_time": "2024-05-14T00:05:13.705557Z",
     "start_time": "2024-05-14T00:05:13.693038Z"
    }
   },
   "outputs": [
    {
     "data": {
      "text/html": [
       "<div>\n",
       "<style scoped>\n",
       "    .dataframe tbody tr th:only-of-type {\n",
       "        vertical-align: middle;\n",
       "    }\n",
       "\n",
       "    .dataframe tbody tr th {\n",
       "        vertical-align: top;\n",
       "    }\n",
       "\n",
       "    .dataframe thead th {\n",
       "        text-align: right;\n",
       "    }\n",
       "</style>\n",
       "<table border=\"1\" class=\"dataframe\">\n",
       "  <thead>\n",
       "    <tr style=\"text-align: right;\">\n",
       "      <th></th>\n",
       "      <th>nome</th>\n",
       "      <th>tipo_1</th>\n",
       "      <th>tipo_2</th>\n",
       "      <th>total</th>\n",
       "      <th>hp</th>\n",
       "      <th>ataque</th>\n",
       "      <th>defesa</th>\n",
       "      <th>sp_atq</th>\n",
       "      <th>sp_def</th>\n",
       "      <th>velocidade</th>\n",
       "      <th>geracao</th>\n",
       "      <th>lendario</th>\n",
       "    </tr>\n",
       "  </thead>\n",
       "  <tbody>\n",
       "    <tr>\n",
       "      <th>0</th>\n",
       "      <td>Bulbasaur</td>\n",
       "      <td>Grass</td>\n",
       "      <td>Poison</td>\n",
       "      <td>318</td>\n",
       "      <td>45</td>\n",
       "      <td>49</td>\n",
       "      <td>49</td>\n",
       "      <td>65</td>\n",
       "      <td>65</td>\n",
       "      <td>45</td>\n",
       "      <td>1</td>\n",
       "      <td>0</td>\n",
       "    </tr>\n",
       "    <tr>\n",
       "      <th>1</th>\n",
       "      <td>Ivysaur</td>\n",
       "      <td>Grass</td>\n",
       "      <td>Poison</td>\n",
       "      <td>405</td>\n",
       "      <td>60</td>\n",
       "      <td>62</td>\n",
       "      <td>63</td>\n",
       "      <td>80</td>\n",
       "      <td>80</td>\n",
       "      <td>60</td>\n",
       "      <td>1</td>\n",
       "      <td>0</td>\n",
       "    </tr>\n",
       "    <tr>\n",
       "      <th>2</th>\n",
       "      <td>Venusaur</td>\n",
       "      <td>Grass</td>\n",
       "      <td>Poison</td>\n",
       "      <td>525</td>\n",
       "      <td>80</td>\n",
       "      <td>82</td>\n",
       "      <td>83</td>\n",
       "      <td>100</td>\n",
       "      <td>100</td>\n",
       "      <td>80</td>\n",
       "      <td>1</td>\n",
       "      <td>0</td>\n",
       "    </tr>\n",
       "    <tr>\n",
       "      <th>3</th>\n",
       "      <td>VenusaurMega Venusaur</td>\n",
       "      <td>Grass</td>\n",
       "      <td>Poison</td>\n",
       "      <td>625</td>\n",
       "      <td>80</td>\n",
       "      <td>100</td>\n",
       "      <td>123</td>\n",
       "      <td>122</td>\n",
       "      <td>120</td>\n",
       "      <td>80</td>\n",
       "      <td>1</td>\n",
       "      <td>0</td>\n",
       "    </tr>\n",
       "    <tr>\n",
       "      <th>4</th>\n",
       "      <td>Charmander</td>\n",
       "      <td>Fire</td>\n",
       "      <td>None</td>\n",
       "      <td>309</td>\n",
       "      <td>39</td>\n",
       "      <td>52</td>\n",
       "      <td>43</td>\n",
       "      <td>60</td>\n",
       "      <td>50</td>\n",
       "      <td>65</td>\n",
       "      <td>1</td>\n",
       "      <td>0</td>\n",
       "    </tr>\n",
       "  </tbody>\n",
       "</table>\n",
       "</div>"
      ],
      "text/plain": [
       "                    nome tipo_1  tipo_2  total  hp  ataque  defesa  sp_atq  \\\n",
       "0              Bulbasaur  Grass  Poison    318  45      49      49      65   \n",
       "1                Ivysaur  Grass  Poison    405  60      62      63      80   \n",
       "2               Venusaur  Grass  Poison    525  80      82      83     100   \n",
       "3  VenusaurMega Venusaur  Grass  Poison    625  80     100     123     122   \n",
       "4             Charmander   Fire    None    309  39      52      43      60   \n",
       "\n",
       "   sp_def  velocidade  geracao  lendario  \n",
       "0      65          45        1         0  \n",
       "1      80          60        1         0  \n",
       "2     100          80        1         0  \n",
       "3     120          80        1         0  \n",
       "4      50          65        1         0  "
      ]
     },
     "execution_count": 9,
     "metadata": {},
     "output_type": "execute_result"
    }
   ],
   "source": [
    "df.head()"
   ]
  },
  {
   "cell_type": "code",
   "execution_count": 62,
   "id": "10764fc159efa245",
   "metadata": {
    "ExecuteTime": {
     "end_time": "2024-05-14T00:33:56.286692Z",
     "start_time": "2024-05-14T00:33:56.280917Z"
    }
   },
   "outputs": [
    {
     "name": "stdout",
     "output_type": "stream",
     "text": [
      "<class 'pandas.core.frame.DataFrame'>\n",
      "<class 'pandas.core.frame.DataFrame'>\n"
     ]
    }
   ],
   "source": [
    "from sklearn.preprocessing import StandardScaler # Importa a classe StandardScaler do módulo preprocessing da biblioteca sklearn\n",
    "\n",
    "# O standardScaler é uma técnica de normalização que transforma os dados para que a média seja 0 e o desvio padrão seja 1.\n",
    "# Se o valor da variável for menor que a média, o valor transformado será negativo. Se for maior, será positivo. Quanto maior o número, mais próximo, ou até maior que 1 ele será.\n",
    "\n",
    "scaler = StandardScaler() # Instancia o StandardScaler\n",
    "# Vamos usar o Scaler, pois ele é mais sensível a outliers, o que é comum em pokemons lendários. \n",
    "\n",
    "# Para manter o DataFrame original, vamos criar um DataFrame com os valores normalizados\n",
    "\n",
    "df_norm = df.copy() # Cria uma cópia do DataFrame\n",
    "\n",
    "numericals = df.select_dtypes(include=['int64', 'float64']) # Verifica os tipos das colunas int64 e float64\n",
    "numericals.drop(columns=['lendario', 'geracao'], inplace=True) # Remove a coluna lendario, pois ela é categórica, e a geracao, pois não faz sentido normalizar\n",
    "\n"
   ]
  },
  {
   "cell_type": "code",
   "execution_count": 64,
   "id": "3f3d042a3506e057",
   "metadata": {
    "ExecuteTime": {
     "end_time": "2024-05-14T00:36:18.513195Z",
     "start_time": "2024-05-14T00:36:18.499124Z"
    }
   },
   "outputs": [
    {
     "data": {
      "text/html": [
       "<div>\n",
       "<style scoped>\n",
       "    .dataframe tbody tr th:only-of-type {\n",
       "        vertical-align: middle;\n",
       "    }\n",
       "\n",
       "    .dataframe tbody tr th {\n",
       "        vertical-align: top;\n",
       "    }\n",
       "\n",
       "    .dataframe thead th {\n",
       "        text-align: right;\n",
       "    }\n",
       "</style>\n",
       "<table border=\"1\" class=\"dataframe\">\n",
       "  <thead>\n",
       "    <tr style=\"text-align: right;\">\n",
       "      <th></th>\n",
       "      <th>nome</th>\n",
       "      <th>tipo_1</th>\n",
       "      <th>tipo_2</th>\n",
       "      <th>total</th>\n",
       "      <th>hp</th>\n",
       "      <th>ataque</th>\n",
       "      <th>defesa</th>\n",
       "      <th>sp_atq</th>\n",
       "      <th>sp_def</th>\n",
       "      <th>velocidade</th>\n",
       "      <th>geracao</th>\n",
       "      <th>lendario</th>\n",
       "    </tr>\n",
       "  </thead>\n",
       "  <tbody>\n",
       "    <tr>\n",
       "      <th>0</th>\n",
       "      <td>Bulbasaur</td>\n",
       "      <td>Grass</td>\n",
       "      <td>Poison</td>\n",
       "      <td>-0.976765</td>\n",
       "      <td>-0.950626</td>\n",
       "      <td>-0.924906</td>\n",
       "      <td>-0.797154</td>\n",
       "      <td>-0.239130</td>\n",
       "      <td>-0.248189</td>\n",
       "      <td>-0.801503</td>\n",
       "      <td>1</td>\n",
       "      <td>0</td>\n",
       "    </tr>\n",
       "    <tr>\n",
       "      <th>1</th>\n",
       "      <td>Ivysaur</td>\n",
       "      <td>Grass</td>\n",
       "      <td>Poison</td>\n",
       "      <td>-0.251088</td>\n",
       "      <td>-0.362822</td>\n",
       "      <td>-0.524130</td>\n",
       "      <td>-0.347917</td>\n",
       "      <td>0.219560</td>\n",
       "      <td>0.291156</td>\n",
       "      <td>-0.285015</td>\n",
       "      <td>1</td>\n",
       "      <td>0</td>\n",
       "    </tr>\n",
       "    <tr>\n",
       "      <th>2</th>\n",
       "      <td>Venusaur</td>\n",
       "      <td>Grass</td>\n",
       "      <td>Poison</td>\n",
       "      <td>0.749845</td>\n",
       "      <td>0.420917</td>\n",
       "      <td>0.092448</td>\n",
       "      <td>0.293849</td>\n",
       "      <td>0.831146</td>\n",
       "      <td>1.010283</td>\n",
       "      <td>0.403635</td>\n",
       "      <td>1</td>\n",
       "      <td>0</td>\n",
       "    </tr>\n",
       "    <tr>\n",
       "      <th>3</th>\n",
       "      <td>VenusaurMega Venusaur</td>\n",
       "      <td>Grass</td>\n",
       "      <td>Poison</td>\n",
       "      <td>1.583957</td>\n",
       "      <td>0.420917</td>\n",
       "      <td>0.647369</td>\n",
       "      <td>1.577381</td>\n",
       "      <td>1.503891</td>\n",
       "      <td>1.729409</td>\n",
       "      <td>0.403635</td>\n",
       "      <td>1</td>\n",
       "      <td>0</td>\n",
       "    </tr>\n",
       "    <tr>\n",
       "      <th>4</th>\n",
       "      <td>Charmander</td>\n",
       "      <td>Fire</td>\n",
       "      <td>None</td>\n",
       "      <td>-1.051836</td>\n",
       "      <td>-1.185748</td>\n",
       "      <td>-0.832419</td>\n",
       "      <td>-0.989683</td>\n",
       "      <td>-0.392027</td>\n",
       "      <td>-0.787533</td>\n",
       "      <td>-0.112853</td>\n",
       "      <td>1</td>\n",
       "      <td>0</td>\n",
       "    </tr>\n",
       "  </tbody>\n",
       "</table>\n",
       "</div>"
      ],
      "text/plain": [
       "                    nome tipo_1  tipo_2     total        hp    ataque  \\\n",
       "0              Bulbasaur  Grass  Poison -0.976765 -0.950626 -0.924906   \n",
       "1                Ivysaur  Grass  Poison -0.251088 -0.362822 -0.524130   \n",
       "2               Venusaur  Grass  Poison  0.749845  0.420917  0.092448   \n",
       "3  VenusaurMega Venusaur  Grass  Poison  1.583957  0.420917  0.647369   \n",
       "4             Charmander   Fire    None -1.051836 -1.185748 -0.832419   \n",
       "\n",
       "     defesa    sp_atq    sp_def  velocidade  geracao  lendario  \n",
       "0 -0.797154 -0.239130 -0.248189   -0.801503        1         0  \n",
       "1 -0.347917  0.219560  0.291156   -0.285015        1         0  \n",
       "2  0.293849  0.831146  1.010283    0.403635        1         0  \n",
       "3  1.577381  1.503891  1.729409    0.403635        1         0  \n",
       "4 -0.989683 -0.392027 -0.787533   -0.112853        1         0  "
      ]
     },
     "execution_count": 64,
     "metadata": {},
     "output_type": "execute_result"
    }
   ],
   "source": [
    "df_norm[numericals.columns] = scaler.fit_transform(df_norm[numericals.columns]) # Normaliza as colunas int64 e float64\n",
    "\n",
    "df_norm.head()\n"
   ]
  },
  {
   "cell_type": "code",
   "execution_count": 11,
   "id": "f936c33c8f168da2",
   "metadata": {
    "ExecuteTime": {
     "end_time": "2024-05-14T00:05:13.738854Z",
     "start_time": "2024-05-14T00:05:13.730051Z"
    }
   },
   "outputs": [
    {
     "data": {
      "text/html": [
       "<div>\n",
       "<style scoped>\n",
       "    .dataframe tbody tr th:only-of-type {\n",
       "        vertical-align: middle;\n",
       "    }\n",
       "\n",
       "    .dataframe tbody tr th {\n",
       "        vertical-align: top;\n",
       "    }\n",
       "\n",
       "    .dataframe thead th {\n",
       "        text-align: right;\n",
       "    }\n",
       "</style>\n",
       "<table border=\"1\" class=\"dataframe\">\n",
       "  <thead>\n",
       "    <tr style=\"text-align: right;\">\n",
       "      <th></th>\n",
       "      <th>nome</th>\n",
       "      <th>tipo_1</th>\n",
       "      <th>tipo_2</th>\n",
       "      <th>total</th>\n",
       "      <th>hp</th>\n",
       "      <th>ataque</th>\n",
       "      <th>defesa</th>\n",
       "      <th>sp_atq</th>\n",
       "      <th>sp_def</th>\n",
       "      <th>velocidade</th>\n",
       "      <th>geracao</th>\n",
       "      <th>lendario</th>\n",
       "    </tr>\n",
       "  </thead>\n",
       "  <tbody>\n",
       "    <tr>\n",
       "      <th>0</th>\n",
       "      <td>Bulbasaur</td>\n",
       "      <td>Grass</td>\n",
       "      <td>Poison</td>\n",
       "      <td>318</td>\n",
       "      <td>45</td>\n",
       "      <td>49</td>\n",
       "      <td>49</td>\n",
       "      <td>65</td>\n",
       "      <td>65</td>\n",
       "      <td>45</td>\n",
       "      <td>1</td>\n",
       "      <td>0</td>\n",
       "    </tr>\n",
       "    <tr>\n",
       "      <th>1</th>\n",
       "      <td>Ivysaur</td>\n",
       "      <td>Grass</td>\n",
       "      <td>Poison</td>\n",
       "      <td>405</td>\n",
       "      <td>60</td>\n",
       "      <td>62</td>\n",
       "      <td>63</td>\n",
       "      <td>80</td>\n",
       "      <td>80</td>\n",
       "      <td>60</td>\n",
       "      <td>1</td>\n",
       "      <td>0</td>\n",
       "    </tr>\n",
       "    <tr>\n",
       "      <th>2</th>\n",
       "      <td>Venusaur</td>\n",
       "      <td>Grass</td>\n",
       "      <td>Poison</td>\n",
       "      <td>525</td>\n",
       "      <td>80</td>\n",
       "      <td>82</td>\n",
       "      <td>83</td>\n",
       "      <td>100</td>\n",
       "      <td>100</td>\n",
       "      <td>80</td>\n",
       "      <td>1</td>\n",
       "      <td>0</td>\n",
       "    </tr>\n",
       "    <tr>\n",
       "      <th>3</th>\n",
       "      <td>VenusaurMega Venusaur</td>\n",
       "      <td>Grass</td>\n",
       "      <td>Poison</td>\n",
       "      <td>625</td>\n",
       "      <td>80</td>\n",
       "      <td>100</td>\n",
       "      <td>123</td>\n",
       "      <td>122</td>\n",
       "      <td>120</td>\n",
       "      <td>80</td>\n",
       "      <td>1</td>\n",
       "      <td>0</td>\n",
       "    </tr>\n",
       "    <tr>\n",
       "      <th>4</th>\n",
       "      <td>Charmander</td>\n",
       "      <td>Fire</td>\n",
       "      <td>None</td>\n",
       "      <td>309</td>\n",
       "      <td>39</td>\n",
       "      <td>52</td>\n",
       "      <td>43</td>\n",
       "      <td>60</td>\n",
       "      <td>50</td>\n",
       "      <td>65</td>\n",
       "      <td>1</td>\n",
       "      <td>0</td>\n",
       "    </tr>\n",
       "  </tbody>\n",
       "</table>\n",
       "</div>"
      ],
      "text/plain": [
       "                    nome tipo_1  tipo_2  total  hp  ataque  defesa  sp_atq  \\\n",
       "0              Bulbasaur  Grass  Poison    318  45      49      49      65   \n",
       "1                Ivysaur  Grass  Poison    405  60      62      63      80   \n",
       "2               Venusaur  Grass  Poison    525  80      82      83     100   \n",
       "3  VenusaurMega Venusaur  Grass  Poison    625  80     100     123     122   \n",
       "4             Charmander   Fire    None    309  39      52      43      60   \n",
       "\n",
       "   sp_def  velocidade  geracao  lendario  \n",
       "0      65          45        1         0  \n",
       "1      80          60        1         0  \n",
       "2     100          80        1         0  \n",
       "3     120          80        1         0  \n",
       "4      50          65        1         0  "
      ]
     },
     "execution_count": 11,
     "metadata": {},
     "output_type": "execute_result"
    }
   ],
   "source": [
    "df.head() # Como visto, manteve o df original."
   ]
  },
  {
   "cell_type": "markdown",
   "id": "dbcea0eb9024acee",
   "metadata": {},
   "source": [
    "Analisando a discrepância dos dados usando porcentagem, assim teremos um melhor insight sobre a distribuição dos dados e o que fazer com eles."
   ]
  },
  {
   "cell_type": "code",
   "execution_count": 12,
   "id": "79cfaa543bcf5892",
   "metadata": {
    "ExecuteTime": {
     "end_time": "2024-05-14T00:05:13.745808Z",
     "start_time": "2024-05-14T00:05:13.739823Z"
    }
   },
   "outputs": [
    {
     "name": "stdout",
     "output_type": "stream",
     "text": [
      "65\n",
      "800\n",
      "Proporção de Pokémon lendários: 8.12%\n"
     ]
    }
   ],
   "source": [
    "# Contagem de Pokémon lendários\n",
    "num_lendario = df[\"lendario\"].sum()\n",
    "print(num_lendario)\n",
    "\n",
    "# Contagem total de Pokémon\n",
    "total_pokemon = len(df)\n",
    "print(total_pokemon)\n",
    "\n",
    "# Proporção de Pokémon lendários.\n",
    "proporcao_lendarios = num_lendario / total_pokemon\n",
    "\n",
    "print(f\"Proporção de Pokémon lendários: {proporcao_lendarios:.2%}\")"
   ]
  },
  {
   "cell_type": "markdown",
   "id": "284c3555401c8477",
   "metadata": {},
   "source": [
    "Deletando as colunas do tipo string para que possamos aplicar o SMOTE."
   ]
  },
  {
   "cell_type": "code",
   "execution_count": 13,
   "id": "2e313fdf",
   "metadata": {
    "ExecuteTime": {
     "end_time": "2024-05-14T00:05:13.761908Z",
     "start_time": "2024-05-14T00:05:13.746803Z"
    }
   },
   "outputs": [
    {
     "data": {
      "text/html": [
       "<div>\n",
       "<style scoped>\n",
       "    .dataframe tbody tr th:only-of-type {\n",
       "        vertical-align: middle;\n",
       "    }\n",
       "\n",
       "    .dataframe tbody tr th {\n",
       "        vertical-align: top;\n",
       "    }\n",
       "\n",
       "    .dataframe thead th {\n",
       "        text-align: right;\n",
       "    }\n",
       "</style>\n",
       "<table border=\"1\" class=\"dataframe\">\n",
       "  <thead>\n",
       "    <tr style=\"text-align: right;\">\n",
       "      <th></th>\n",
       "      <th>total</th>\n",
       "      <th>hp</th>\n",
       "      <th>ataque</th>\n",
       "      <th>defesa</th>\n",
       "      <th>sp_atq</th>\n",
       "      <th>sp_def</th>\n",
       "      <th>velocidade</th>\n",
       "      <th>geracao</th>\n",
       "      <th>lendario</th>\n",
       "    </tr>\n",
       "  </thead>\n",
       "  <tbody>\n",
       "    <tr>\n",
       "      <th>0</th>\n",
       "      <td>-0.976765</td>\n",
       "      <td>-0.950626</td>\n",
       "      <td>-0.924906</td>\n",
       "      <td>-0.797154</td>\n",
       "      <td>-0.239130</td>\n",
       "      <td>-0.248189</td>\n",
       "      <td>-0.801503</td>\n",
       "      <td>1</td>\n",
       "      <td>0</td>\n",
       "    </tr>\n",
       "    <tr>\n",
       "      <th>1</th>\n",
       "      <td>-0.251088</td>\n",
       "      <td>-0.362822</td>\n",
       "      <td>-0.524130</td>\n",
       "      <td>-0.347917</td>\n",
       "      <td>0.219560</td>\n",
       "      <td>0.291156</td>\n",
       "      <td>-0.285015</td>\n",
       "      <td>1</td>\n",
       "      <td>0</td>\n",
       "    </tr>\n",
       "    <tr>\n",
       "      <th>2</th>\n",
       "      <td>0.749845</td>\n",
       "      <td>0.420917</td>\n",
       "      <td>0.092448</td>\n",
       "      <td>0.293849</td>\n",
       "      <td>0.831146</td>\n",
       "      <td>1.010283</td>\n",
       "      <td>0.403635</td>\n",
       "      <td>1</td>\n",
       "      <td>0</td>\n",
       "    </tr>\n",
       "    <tr>\n",
       "      <th>3</th>\n",
       "      <td>1.583957</td>\n",
       "      <td>0.420917</td>\n",
       "      <td>0.647369</td>\n",
       "      <td>1.577381</td>\n",
       "      <td>1.503891</td>\n",
       "      <td>1.729409</td>\n",
       "      <td>0.403635</td>\n",
       "      <td>1</td>\n",
       "      <td>0</td>\n",
       "    </tr>\n",
       "    <tr>\n",
       "      <th>4</th>\n",
       "      <td>-1.051836</td>\n",
       "      <td>-1.185748</td>\n",
       "      <td>-0.832419</td>\n",
       "      <td>-0.989683</td>\n",
       "      <td>-0.392027</td>\n",
       "      <td>-0.787533</td>\n",
       "      <td>-0.112853</td>\n",
       "      <td>1</td>\n",
       "      <td>0</td>\n",
       "    </tr>\n",
       "  </tbody>\n",
       "</table>\n",
       "</div>"
      ],
      "text/plain": [
       "      total        hp    ataque    defesa    sp_atq    sp_def  velocidade  \\\n",
       "0 -0.976765 -0.950626 -0.924906 -0.797154 -0.239130 -0.248189   -0.801503   \n",
       "1 -0.251088 -0.362822 -0.524130 -0.347917  0.219560  0.291156   -0.285015   \n",
       "2  0.749845  0.420917  0.092448  0.293849  0.831146  1.010283    0.403635   \n",
       "3  1.583957  0.420917  0.647369  1.577381  1.503891  1.729409    0.403635   \n",
       "4 -1.051836 -1.185748 -0.832419 -0.989683 -0.392027 -0.787533   -0.112853   \n",
       "\n",
       "   geracao  lendario  \n",
       "0        1         0  \n",
       "1        1         0  \n",
       "2        1         0  \n",
       "3        1         0  \n",
       "4        1         0  "
      ]
     },
     "execution_count": 13,
     "metadata": {},
     "output_type": "execute_result"
    }
   ],
   "source": [
    "colunas_str = df_norm.select_dtypes(include=['object']).columns # Pegando todas as colunas do tipo \"Object\" e armazenando em uma lista\n",
    "\n",
    "df_norm.drop(columns=colunas_str, inplace=True) # Passando a lista que pegamos acima, para que seja removido todas as colunas que nela pertence\n",
    "df_norm.head()"
   ]
  },
  {
   "cell_type": "markdown",
   "id": "64607665",
   "metadata": {},
   "source": [
    "# SMOTE - Synthetic Minority Over-sampling Technique\n",
    "\n",
    "Cria cópias sintéticas (não existentes) dos Pokémons lendários para equilibrar as classes."
   ]
  },
  {
   "cell_type": "code",
   "execution_count": 14,
   "id": "09cca1b5",
   "metadata": {
    "ExecuteTime": {
     "end_time": "2024-05-14T00:05:13.768506Z",
     "start_time": "2024-05-14T00:05:13.762903Z"
    }
   },
   "outputs": [],
   "source": [
    "# Separando as features (X) e o target (y)\n",
    "\n",
    "X = df_norm.drop(columns=[\"lendario\"])\n",
    "y = df_norm[\"lendario\"]"
   ]
  },
  {
   "cell_type": "code",
   "execution_count": 15,
   "id": "9f9c359e",
   "metadata": {
    "ExecuteTime": {
     "end_time": "2024-05-14T00:05:13.780511Z",
     "start_time": "2024-05-14T00:05:13.769504Z"
    }
   },
   "outputs": [],
   "source": [
    "# Separação dos dados de treino (80%) e teste (20%)\n",
    "\n",
    "X_train, X_test, y_train, y_test = train_test_split(X, y, test_size=0.2, random_state=42) # o test_size=0.2 indica que 20% dos dados serão usados para teste\n"
   ]
  },
  {
   "cell_type": "code",
   "execution_count": 16,
   "id": "551ca7cd",
   "metadata": {
    "ExecuteTime": {
     "end_time": "2024-05-14T00:05:13.791623Z",
     "start_time": "2024-05-14T00:05:13.784508Z"
    }
   },
   "outputs": [],
   "source": [
    "#Normalizando dos dados de treino e teste\n",
    "\n",
    "min_max = MinMaxScaler()\n",
    "min_max.fit(X_train)\n",
    "X_train_norm = min_max.transform(X_train)\n",
    "X_test_norm = min_max.transform(X_test)"
   ]
  },
  {
   "cell_type": "code",
   "execution_count": 46,
   "id": "296f5a04fb5cd7c0",
   "metadata": {
    "ExecuteTime": {
     "end_time": "2024-05-14T00:24:29.601283Z",
     "start_time": "2024-05-14T00:24:29.593034Z"
    }
   },
   "outputs": [
    {
     "data": {
      "text/plain": [
       "(1170, 8)"
      ]
     },
     "execution_count": 46,
     "metadata": {},
     "output_type": "execute_result"
    }
   ],
   "source": [
    "# Aplicando o SMOTE para oversampling\n",
    "\n",
    "smote = SMOTE(random_state=42)\n",
    "X_smote, y_smote = smote.fit_resample(X_train_norm, y_train)\n",
    "X_smote.shape\n"
   ]
  },
  {
   "cell_type": "code",
   "execution_count": 44,
   "id": "4bbf0672377050b8",
   "metadata": {
    "ExecuteTime": {
     "end_time": "2024-05-14T00:23:03.087263Z",
     "start_time": "2024-05-14T00:23:03.082117Z"
    }
   },
   "outputs": [
    {
     "data": {
      "text/plain": [
       "array([[0.66666667, 0.36734694, 0.37837838, ..., 0.45238095, 0.45714286,\n",
       "        0.2       ],\n",
       "       [0.5       , 0.3877551 , 0.72972973, ..., 0.16666667, 0.51428571,\n",
       "        0.8       ],\n",
       "       [0.5       , 0.16326531, 0.54054054, ..., 0.35714286, 0.25714286,\n",
       "        0.4       ],\n",
       "       ...,\n",
       "       [0.7936868 , 0.35399658, 0.77574732, ..., 0.35263343, 0.48741342,\n",
       "        0.8       ],\n",
       "       [0.83837359, 0.56217096, 0.5216869 , ..., 0.47619048, 0.49867494,\n",
       "        0.6       ],\n",
       "       [0.70337654, 0.28807688, 0.46102388, ..., 0.43270596, 0.59669237,\n",
       "        0.4       ]])"
      ]
     },
     "execution_count": 44,
     "metadata": {},
     "output_type": "execute_result"
    }
   ],
   "source": [
    "X_smote"
   ]
  },
  {
   "cell_type": "code",
   "execution_count": 45,
   "id": "c0ecb479d43555e2",
   "metadata": {
    "ExecuteTime": {
     "end_time": "2024-05-14T00:23:45.490841Z",
     "start_time": "2024-05-14T00:23:45.485097Z"
    }
   },
   "outputs": [
    {
     "data": {
      "text/plain": [
       "0       1\n",
       "1       0\n",
       "2       0\n",
       "3       0\n",
       "4       0\n",
       "       ..\n",
       "1165    1\n",
       "1166    1\n",
       "1167    1\n",
       "1168    1\n",
       "1169    1\n",
       "Name: lendario, Length: 1170, dtype: int64"
      ]
     },
     "execution_count": 45,
     "metadata": {},
     "output_type": "execute_result"
    }
   ],
   "source": [
    "y_smote"
   ]
  },
  {
   "cell_type": "code",
   "execution_count": 18,
   "id": "ebb008c3",
   "metadata": {
    "ExecuteTime": {
     "end_time": "2024-05-14T00:05:13.827802Z",
     "start_time": "2024-05-14T00:05:13.819463Z"
    }
   },
   "outputs": [
    {
     "data": {
      "text/plain": [
       "1    585\n",
       "0    585\n",
       "Name: lendario, dtype: int64"
      ]
     },
     "execution_count": 18,
     "metadata": {},
     "output_type": "execute_result"
    }
   ],
   "source": [
    "y_smote.value_counts()"
   ]
  },
  {
   "cell_type": "markdown",
   "id": "adc34aa6",
   "metadata": {},
   "source": [
    "# SVM - Support Vector Machine\n",
    "\n"
   ]
  },
  {
   "cell_type": "code",
   "execution_count": 19,
   "id": "2ed850a2",
   "metadata": {
    "ExecuteTime": {
     "end_time": "2024-05-14T00:05:13.859006Z",
     "start_time": "2024-05-14T00:05:13.828798Z"
    }
   },
   "outputs": [],
   "source": [
    "modelo_svm = SVC(kernel='rbf', random_state=42)\n",
    "modelo_svm.fit(X_smote, y_smote)\n",
    "y_pred = modelo_svm.predict(X_test_norm)"
   ]
  },
  {
   "cell_type": "code",
   "execution_count": 20,
   "id": "ebcd4781",
   "metadata": {
    "ExecuteTime": {
     "end_time": "2024-05-14T00:05:13.873002Z",
     "start_time": "2024-05-14T00:05:13.861009Z"
    }
   },
   "outputs": [
    {
     "name": "stdout",
     "output_type": "stream",
     "text": [
      "Acurácia: 0.9375\n",
      "Revocação: 0.9375\n",
      "Precisão: 0.96875\n"
     ]
    }
   ],
   "source": [
    "print('Acurácia:', accuracy_score(y_test, y_pred))\n",
    "print('Revocação:', recall_score(y_test, y_pred, average='weighted'))\n",
    "print('Precisão:', precision_score(y_test, y_pred,average='weighted'))"
   ]
  },
  {
   "cell_type": "markdown",
   "id": "9ccb8749",
   "metadata": {},
   "source": [
    "# KNN - K-Nearest Neighbors"
   ]
  },
  {
   "cell_type": "code",
   "execution_count": 21,
   "id": "c408dd1c",
   "metadata": {
    "ExecuteTime": {
     "end_time": "2024-05-14T00:05:13.895001Z",
     "start_time": "2024-05-14T00:05:13.874003Z"
    }
   },
   "outputs": [],
   "source": [
    "modelo_knn = KNeighborsClassifier(n_neighbors=3)\n",
    "modelo_knn.fit(X_smote, y_smote)\n",
    "y_pred = modelo_knn.predict(X_test_norm)"
   ]
  },
  {
   "cell_type": "code",
   "execution_count": 22,
   "id": "8b5a2fe8",
   "metadata": {
    "ExecuteTime": {
     "end_time": "2024-05-14T00:05:13.906635Z",
     "start_time": "2024-05-14T00:05:13.896002Z"
    }
   },
   "outputs": [
    {
     "name": "stdout",
     "output_type": "stream",
     "text": [
      "Acurácia: 0.93125\n",
      "Revocação: 0.93125\n",
      "Precisão: 0.9604563269876818\n"
     ]
    }
   ],
   "source": [
    "print('Acurácia:', accuracy_score(y_test, y_pred))\n",
    "print('Revocação:', recall_score(y_test, y_pred, average='weighted'))\n",
    "print('Precisão:', precision_score(y_test, y_pred,average='weighted'))"
   ]
  },
  {
   "cell_type": "markdown",
   "id": "fe59d6fe",
   "metadata": {},
   "source": [
    "Undersampling: ReduzaREduzindo aleatoriamente o número de exemplos da classe majoritária (não lendários)"
   ]
  },
  {
   "cell_type": "code",
   "execution_count": 23,
   "id": "8c3707e3",
   "metadata": {
    "ExecuteTime": {
     "end_time": "2024-05-14T00:05:13.913625Z",
     "start_time": "2024-05-14T00:05:13.907627Z"
    }
   },
   "outputs": [
    {
     "data": {
      "text/plain": [
       "0    735\n",
       "1     65\n",
       "Name: lendario, dtype: int64"
      ]
     },
     "execution_count": 23,
     "metadata": {},
     "output_type": "execute_result"
    }
   ],
   "source": [
    "# Contagem de exemplos por classe\n",
    "contagem_por_classe = df[\"lendario\"].value_counts()\n",
    "contagem_por_classe"
   ]
  },
  {
   "cell_type": "code",
   "execution_count": 24,
   "id": "51779faf",
   "metadata": {
    "ExecuteTime": {
     "end_time": "2024-05-14T00:05:13.919577Z",
     "start_time": "2024-05-14T00:05:13.914627Z"
    }
   },
   "outputs": [],
   "source": [
    "# Defenindo o número máximo de exemplos por classe (no seu caso, 500)\n",
    "n_maximo_por_classe = 500"
   ]
  },
  {
   "cell_type": "code",
   "execution_count": 25,
   "id": "6ad1a041",
   "metadata": {
    "ExecuteTime": {
     "end_time": "2024-05-14T00:05:13.927207Z",
     "start_time": "2024-05-14T00:05:13.920574Z"
    }
   },
   "outputs": [],
   "source": [
    "# Filtrando as classes com mais exemplos do que o limite\n",
    "classes_maior_que_limite = contagem_por_classe[contagem_por_classe > n_maximo_por_classe].index"
   ]
  },
  {
   "cell_type": "code",
   "execution_count": 26,
   "id": "34ea3661",
   "metadata": {
    "ExecuteTime": {
     "end_time": "2024-05-14T00:05:13.936794Z",
     "start_time": "2024-05-14T00:05:13.928201Z"
    }
   },
   "outputs": [],
   "source": [
    "# Faazendo uma seleção aleatória de exemplos das classes maiores que o limite\n",
    "exemplos_undersampled = pd.concat([\n",
    "    df[df[\"lendario\"] == classe].sample(n=n_maximo_por_classe, replace=False)\n",
    "    for classe in classes_maior_que_limite\n",
    "])"
   ]
  },
  {
   "cell_type": "code",
   "execution_count": 27,
   "id": "a0b8cb3f",
   "metadata": {
    "ExecuteTime": {
     "end_time": "2024-05-14T00:05:13.944791Z",
     "start_time": "2024-05-14T00:05:13.937790Z"
    }
   },
   "outputs": [],
   "source": [
    "# Mantendo os exemplos das classes menores que o limite\n",
    "exemplos_undersampled = pd.concat([\n",
    "    exemplos_undersampled,\n",
    "    df[df[\"lendario\"].isin(classes_maior_que_limite) == False]\n",
    "])"
   ]
  },
  {
   "cell_type": "code",
   "execution_count": 28,
   "id": "e568f793",
   "metadata": {
    "ExecuteTime": {
     "end_time": "2024-05-14T00:05:13.959965Z",
     "start_time": "2024-05-14T00:05:13.945791Z"
    }
   },
   "outputs": [
    {
     "data": {
      "text/html": [
       "<div>\n",
       "<style scoped>\n",
       "    .dataframe tbody tr th:only-of-type {\n",
       "        vertical-align: middle;\n",
       "    }\n",
       "\n",
       "    .dataframe tbody tr th {\n",
       "        vertical-align: top;\n",
       "    }\n",
       "\n",
       "    .dataframe thead th {\n",
       "        text-align: right;\n",
       "    }\n",
       "</style>\n",
       "<table border=\"1\" class=\"dataframe\">\n",
       "  <thead>\n",
       "    <tr style=\"text-align: right;\">\n",
       "      <th></th>\n",
       "      <th>nome</th>\n",
       "      <th>tipo_1</th>\n",
       "      <th>tipo_2</th>\n",
       "      <th>total</th>\n",
       "      <th>hp</th>\n",
       "      <th>ataque</th>\n",
       "      <th>defesa</th>\n",
       "      <th>sp_atq</th>\n",
       "      <th>sp_def</th>\n",
       "      <th>velocidade</th>\n",
       "      <th>geracao</th>\n",
       "      <th>lendario</th>\n",
       "    </tr>\n",
       "  </thead>\n",
       "  <tbody>\n",
       "    <tr>\n",
       "      <th>321</th>\n",
       "      <td>Hariyama</td>\n",
       "      <td>Fighting</td>\n",
       "      <td>None</td>\n",
       "      <td>474</td>\n",
       "      <td>144</td>\n",
       "      <td>120</td>\n",
       "      <td>60</td>\n",
       "      <td>40</td>\n",
       "      <td>60</td>\n",
       "      <td>50</td>\n",
       "      <td>3</td>\n",
       "      <td>0</td>\n",
       "    </tr>\n",
       "    <tr>\n",
       "      <th>742</th>\n",
       "      <td>Pancham</td>\n",
       "      <td>Fighting</td>\n",
       "      <td>None</td>\n",
       "      <td>348</td>\n",
       "      <td>67</td>\n",
       "      <td>82</td>\n",
       "      <td>62</td>\n",
       "      <td>46</td>\n",
       "      <td>48</td>\n",
       "      <td>43</td>\n",
       "      <td>6</td>\n",
       "      <td>0</td>\n",
       "    </tr>\n",
       "    <tr>\n",
       "      <th>322</th>\n",
       "      <td>Azurill</td>\n",
       "      <td>Normal</td>\n",
       "      <td>Fairy</td>\n",
       "      <td>190</td>\n",
       "      <td>50</td>\n",
       "      <td>20</td>\n",
       "      <td>40</td>\n",
       "      <td>20</td>\n",
       "      <td>40</td>\n",
       "      <td>20</td>\n",
       "      <td>3</td>\n",
       "      <td>0</td>\n",
       "    </tr>\n",
       "    <tr>\n",
       "      <th>219</th>\n",
       "      <td>Pineco</td>\n",
       "      <td>Bug</td>\n",
       "      <td>None</td>\n",
       "      <td>290</td>\n",
       "      <td>50</td>\n",
       "      <td>65</td>\n",
       "      <td>90</td>\n",
       "      <td>35</td>\n",
       "      <td>35</td>\n",
       "      <td>15</td>\n",
       "      <td>2</td>\n",
       "      <td>0</td>\n",
       "    </tr>\n",
       "    <tr>\n",
       "      <th>790</th>\n",
       "      <td>Noibat</td>\n",
       "      <td>Flying</td>\n",
       "      <td>Dragon</td>\n",
       "      <td>245</td>\n",
       "      <td>40</td>\n",
       "      <td>30</td>\n",
       "      <td>35</td>\n",
       "      <td>45</td>\n",
       "      <td>40</td>\n",
       "      <td>55</td>\n",
       "      <td>6</td>\n",
       "      <td>0</td>\n",
       "    </tr>\n",
       "    <tr>\n",
       "      <th>...</th>\n",
       "      <td>...</td>\n",
       "      <td>...</td>\n",
       "      <td>...</td>\n",
       "      <td>...</td>\n",
       "      <td>...</td>\n",
       "      <td>...</td>\n",
       "      <td>...</td>\n",
       "      <td>...</td>\n",
       "      <td>...</td>\n",
       "      <td>...</td>\n",
       "      <td>...</td>\n",
       "      <td>...</td>\n",
       "    </tr>\n",
       "    <tr>\n",
       "      <th>795</th>\n",
       "      <td>Diancie</td>\n",
       "      <td>Rock</td>\n",
       "      <td>Fairy</td>\n",
       "      <td>600</td>\n",
       "      <td>50</td>\n",
       "      <td>100</td>\n",
       "      <td>150</td>\n",
       "      <td>100</td>\n",
       "      <td>150</td>\n",
       "      <td>50</td>\n",
       "      <td>6</td>\n",
       "      <td>1</td>\n",
       "    </tr>\n",
       "    <tr>\n",
       "      <th>796</th>\n",
       "      <td>DiancieMega Diancie</td>\n",
       "      <td>Rock</td>\n",
       "      <td>Fairy</td>\n",
       "      <td>700</td>\n",
       "      <td>50</td>\n",
       "      <td>160</td>\n",
       "      <td>110</td>\n",
       "      <td>160</td>\n",
       "      <td>110</td>\n",
       "      <td>110</td>\n",
       "      <td>6</td>\n",
       "      <td>1</td>\n",
       "    </tr>\n",
       "    <tr>\n",
       "      <th>797</th>\n",
       "      <td>HoopaHoopa Confined</td>\n",
       "      <td>Psychic</td>\n",
       "      <td>Ghost</td>\n",
       "      <td>600</td>\n",
       "      <td>80</td>\n",
       "      <td>110</td>\n",
       "      <td>60</td>\n",
       "      <td>150</td>\n",
       "      <td>130</td>\n",
       "      <td>70</td>\n",
       "      <td>6</td>\n",
       "      <td>1</td>\n",
       "    </tr>\n",
       "    <tr>\n",
       "      <th>798</th>\n",
       "      <td>HoopaHoopa Unbound</td>\n",
       "      <td>Psychic</td>\n",
       "      <td>Dark</td>\n",
       "      <td>680</td>\n",
       "      <td>80</td>\n",
       "      <td>160</td>\n",
       "      <td>60</td>\n",
       "      <td>170</td>\n",
       "      <td>130</td>\n",
       "      <td>80</td>\n",
       "      <td>6</td>\n",
       "      <td>1</td>\n",
       "    </tr>\n",
       "    <tr>\n",
       "      <th>799</th>\n",
       "      <td>Volcanion</td>\n",
       "      <td>Fire</td>\n",
       "      <td>Water</td>\n",
       "      <td>600</td>\n",
       "      <td>80</td>\n",
       "      <td>110</td>\n",
       "      <td>120</td>\n",
       "      <td>130</td>\n",
       "      <td>90</td>\n",
       "      <td>70</td>\n",
       "      <td>6</td>\n",
       "      <td>1</td>\n",
       "    </tr>\n",
       "  </tbody>\n",
       "</table>\n",
       "<p>565 rows × 12 columns</p>\n",
       "</div>"
      ],
      "text/plain": [
       "                    nome    tipo_1  tipo_2  total   hp  ataque  defesa  \\\n",
       "321             Hariyama  Fighting    None    474  144     120      60   \n",
       "742              Pancham  Fighting    None    348   67      82      62   \n",
       "322              Azurill    Normal   Fairy    190   50      20      40   \n",
       "219               Pineco       Bug    None    290   50      65      90   \n",
       "790               Noibat    Flying  Dragon    245   40      30      35   \n",
       "..                   ...       ...     ...    ...  ...     ...     ...   \n",
       "795              Diancie      Rock   Fairy    600   50     100     150   \n",
       "796  DiancieMega Diancie      Rock   Fairy    700   50     160     110   \n",
       "797  HoopaHoopa Confined   Psychic   Ghost    600   80     110      60   \n",
       "798   HoopaHoopa Unbound   Psychic    Dark    680   80     160      60   \n",
       "799            Volcanion      Fire   Water    600   80     110     120   \n",
       "\n",
       "     sp_atq  sp_def  velocidade  geracao  lendario  \n",
       "321      40      60          50        3         0  \n",
       "742      46      48          43        6         0  \n",
       "322      20      40          20        3         0  \n",
       "219      35      35          15        2         0  \n",
       "790      45      40          55        6         0  \n",
       "..      ...     ...         ...      ...       ...  \n",
       "795     100     150          50        6         1  \n",
       "796     160     110         110        6         1  \n",
       "797     150     130          70        6         1  \n",
       "798     170     130          80        6         1  \n",
       "799     130      90          70        6         1  \n",
       "\n",
       "[565 rows x 12 columns]"
      ]
     },
     "execution_count": 28,
     "metadata": {},
     "output_type": "execute_result"
    }
   ],
   "source": [
    "# Agora exemplos_undersampled contém o DataFrame com a classe \"lendário\" balanceada\n",
    "exemplos_undersampled\n"
   ]
  },
  {
   "cell_type": "code",
   "execution_count": 29,
   "id": "958e53d8",
   "metadata": {
    "ExecuteTime": {
     "end_time": "2024-05-14T00:05:13.970468Z",
     "start_time": "2024-05-14T00:05:13.960961Z"
    }
   },
   "outputs": [
    {
     "data": {
      "text/plain": [
       "(1470, 8)"
      ]
     },
     "execution_count": 29,
     "metadata": {},
     "output_type": "execute_result"
    }
   ],
   "source": [
    "#Randon Sampling gerando numeros mais proximos utilizando uma matriz de covariancia\n",
    "randon_sampler = RandomOverSampler(random_state=42)\n",
    "X_random, y_random = randon_sampler.fit_resample(X,y)\n",
    "X_random.shape"
   ]
  },
  {
   "cell_type": "code",
   "execution_count": 30,
   "id": "3296dc42",
   "metadata": {
    "ExecuteTime": {
     "end_time": "2024-05-14T00:05:13.976530Z",
     "start_time": "2024-05-14T00:05:13.971424Z"
    }
   },
   "outputs": [
    {
     "data": {
      "text/plain": [
       "(1470,)"
      ]
     },
     "execution_count": 30,
     "metadata": {},
     "output_type": "execute_result"
    }
   ],
   "source": [
    "y_random.shape"
   ]
  },
  {
   "cell_type": "code",
   "execution_count": 31,
   "id": "6a4687a7",
   "metadata": {
    "ExecuteTime": {
     "end_time": "2024-05-14T00:05:13.996082Z",
     "start_time": "2024-05-14T00:05:13.977522Z"
    }
   },
   "outputs": [
    {
     "data": {
      "text/plain": [
       "total      hp         ataque     defesa     sp_atq     sp_def     velocidade  geracao\n",
       " 2.042718   2.223516   1.603065   0.678908   1.779105   0.938370   1.057853   6          27\n",
       " 1.208607   0.381730   1.109803  -0.123299   1.595629   0.291156   1.471044   5          23\n",
       " 2.209541  -0.754692   2.497104   1.160233   2.665905   1.369846   1.436611   6          20\n",
       " 2.042718   1.204656   1.263947   1.481116   2.360112   1.010283   0.747961   4          19\n",
       " 1.208607   0.812786   0.184935   0.839350   0.678249   1.909191   0.575798   1          17\n",
       "                                                                                         ..\n",
       "-0.584733   0.029047  -0.524130  -0.219564  -0.544924  -0.607752  -0.422745   1           1\n",
       "-0.551369  -0.284448  -0.894077  -0.508359   0.005504  -0.643708   0.128175   6           1\n",
       "-0.543027  -0.362822  -1.202366  -0.444182   0.678249  -0.427970  -0.457178   5           1\n",
       "           -0.166887  -1.202366  -0.765065   1.595629  -0.427970  -1.317991   5           1\n",
       " 0.107580  -0.402009   0.955658   2.443765  -0.850717  -0.823490  -1.145828   6           1\n",
       "Length: 786, dtype: int64"
      ]
     },
     "execution_count": 31,
     "metadata": {},
     "output_type": "execute_result"
    }
   ],
   "source": [
    "X_random.value_counts()"
   ]
  },
  {
   "cell_type": "code",
   "execution_count": 32,
   "id": "06154f3b",
   "metadata": {
    "ExecuteTime": {
     "end_time": "2024-05-14T00:05:14.002271Z",
     "start_time": "2024-05-14T00:05:13.997080Z"
    }
   },
   "outputs": [
    {
     "data": {
      "text/plain": [
       "0    735\n",
       "1    735\n",
       "Name: lendario, dtype: int64"
      ]
     },
     "execution_count": 32,
     "metadata": {},
     "output_type": "execute_result"
    }
   ],
   "source": [
    "y_random.value_counts()"
   ]
  },
  {
   "cell_type": "code",
   "execution_count": 33,
   "id": "1b189ac2eb4359ab",
   "metadata": {
    "ExecuteTime": {
     "end_time": "2024-05-14T00:05:14.011062Z",
     "start_time": "2024-05-14T00:05:14.003266Z"
    }
   },
   "outputs": [],
   "source": [
    "rs = pd.DataFrame({\"Nome\": y.value_counts().index,\n",
    "              \"Qte.\": y.value_counts().values,\n",
    "              \"% Total\": round(y.value_counts(normalize=True) * 100,2).values})"
   ]
  },
  {
   "cell_type": "code",
   "execution_count": 34,
   "id": "629cec9f5c81b12a",
   "metadata": {
    "ExecuteTime": {
     "end_time": "2024-05-14T00:05:14.022507Z",
     "start_time": "2024-05-14T00:05:14.013059Z"
    }
   },
   "outputs": [
    {
     "data": {
      "text/html": [
       "<div>\n",
       "<style scoped>\n",
       "    .dataframe tbody tr th:only-of-type {\n",
       "        vertical-align: middle;\n",
       "    }\n",
       "\n",
       "    .dataframe tbody tr th {\n",
       "        vertical-align: top;\n",
       "    }\n",
       "\n",
       "    .dataframe thead th {\n",
       "        text-align: right;\n",
       "    }\n",
       "</style>\n",
       "<table border=\"1\" class=\"dataframe\">\n",
       "  <thead>\n",
       "    <tr style=\"text-align: right;\">\n",
       "      <th></th>\n",
       "      <th>Nome</th>\n",
       "      <th>Qte.</th>\n",
       "      <th>% Total</th>\n",
       "    </tr>\n",
       "  </thead>\n",
       "  <tbody>\n",
       "    <tr>\n",
       "      <th>0</th>\n",
       "      <td>0</td>\n",
       "      <td>735</td>\n",
       "      <td>91.88</td>\n",
       "    </tr>\n",
       "    <tr>\n",
       "      <th>1</th>\n",
       "      <td>1</td>\n",
       "      <td>65</td>\n",
       "      <td>8.12</td>\n",
       "    </tr>\n",
       "  </tbody>\n",
       "</table>\n",
       "</div>"
      ],
      "text/plain": [
       "   Nome  Qte.  % Total\n",
       "0     0   735    91.88\n",
       "1     1    65     8.12"
      ]
     },
     "execution_count": 34,
     "metadata": {},
     "output_type": "execute_result"
    }
   ],
   "source": [
    "rs"
   ]
  },
  {
   "cell_type": "code",
   "execution_count": 35,
   "id": "7da847c4",
   "metadata": {
    "ExecuteTime": {
     "end_time": "2024-05-14T00:05:14.657098Z",
     "start_time": "2024-05-14T00:05:14.023467Z"
    }
   },
   "outputs": [
    {
     "name": "stderr",
     "output_type": "stream",
     "text": [
      "C:\\Users\\vinissoissoisso\\anaconda3\\Lib\\site-packages\\sklearn\\cluster\\_kmeans.py:1902: UserWarning: MiniBatchKMeans is known to have a memory leak on Windows with MKL, when there are less chunks than available threads. You can prevent it by setting batch_size >= 3072 or by setting the environment variable OMP_NUM_THREADS=3\n",
      "  warnings.warn(\n"
     ]
    },
    {
     "data": {
      "text/plain": [
       "(130, 8)"
      ]
     },
     "execution_count": 35,
     "metadata": {},
     "output_type": "execute_result"
    }
   ],
   "source": [
    "centroids_under =ClusterCentroids(estimator=MiniBatchKMeans(n_init=10, random_state=0), random_state=42)\n",
    "X_centroid, y_centroid = centroids_under.fit_resample(X,y)\n",
    "X_centroid.shape"
   ]
  },
  {
   "cell_type": "code",
   "execution_count": 36,
   "id": "f1a7a070",
   "metadata": {
    "ExecuteTime": {
     "end_time": "2024-05-14T00:05:14.665078Z",
     "start_time": "2024-05-14T00:05:14.658079Z"
    }
   },
   "outputs": [
    {
     "data": {
      "text/plain": [
       "0    65\n",
       "1    65\n",
       "Name: lendario, dtype: int64"
      ]
     },
     "execution_count": 36,
     "metadata": {},
     "output_type": "execute_result"
    }
   ],
   "source": [
    "y_centroid.value_counts()"
   ]
  },
  {
   "cell_type": "code",
   "execution_count": 37,
   "id": "983fd71e",
   "metadata": {
    "ExecuteTime": {
     "end_time": "2024-05-14T00:05:14.671924Z",
     "start_time": "2024-05-14T00:05:14.666079Z"
    }
   },
   "outputs": [
    {
     "data": {
      "text/plain": [
       "(800, 9)"
      ]
     },
     "execution_count": 37,
     "metadata": {},
     "output_type": "execute_result"
    }
   ],
   "source": [
    "df_norm.shape\n"
   ]
  },
  {
   "cell_type": "markdown",
   "id": "7dfa0b7696b26f5b",
   "metadata": {},
   "source": [
    "# 5. Tratar variáveis com alta correlação"
   ]
  },
  {
   "cell_type": "code",
   "execution_count": 38,
   "id": "d31bf0d492aab7b5",
   "metadata": {
    "ExecuteTime": {
     "end_time": "2024-05-14T00:05:15.058596Z",
     "start_time": "2024-05-14T00:05:14.672917Z"
    }
   },
   "outputs": [
    {
     "data": {
      "image/png": "[encoded data removed]",
      "text/plain": [
       "<Figure size 1200x800 with 2 Axes>"
      ]
     },
     "metadata": {},
     "output_type": "display_data"
    }
   ],
   "source": [
    "# Vamos verificar a correlação entre as variáveis usando um gráfico de calor\n",
    "\n",
    "corr_matrix = df_norm.corr() # Calcula a matriz de correlação\n",
    "\n",
    "plt.figure(figsize= (12, 8)) # Define o tamanho da figura\n",
    "sns.heatmap(corr_matrix, annot= True, cmap= 'coolwarm', fmt=\".2f\") # Cria o gráfico de calor\n",
    "plt.title(\"Matriz de correlação\") # Define o título do gráfico\n",
    "plt.show() # Exibe o gráfico\n"
   ]
  },
  {
   "cell_type": "markdown",
   "id": "41d110cdedab1504",
   "metadata": {},
   "source": [
    "Com esse gráfico, notamos que há pouca correlação entre as variáveis, o que é bom para o modelo. Não será necessário remover ou tratar nenhuma variável.\n",
    "\n",
    " *  Lembrando que a leitura desse gráfico se dá pelo seguinte:\n",
    "    -   Quanto mais próximo de 1, mais forte é a correlação positiva entre as variáveis; - algo ruim\n",
    "    -   Quanto mais próximo de -1, mais forte é a correlação negativa entre as variáveis; - também é algo ruim\n",
    "    -   Quanto mais próximo de 0, mais fraca é a correlação entre as variáveis. - algo bom\n",
    "\n",
    "Variáveis com alta correlação ou correlação invertida podem ser um problema para o modelo, pois ele não saberá qual variável é mais importante para a previsão, além de que o modelo também não consegue analisar a importância da individualidade da classe. Isso pode causar overfitting, ou seja, o modelo se ajusta muito bem aos dados de treino, mas não consegue generalizar para novos dados."
   ]
  },
  {
   "cell_type": "markdown",
   "id": "7e566e13c591a42",
   "metadata": {},
   "source": [
    "# 6. Realizar a seleção de variáveis"
   ]
  },
  {
   "cell_type": "code",
   "execution_count": 1,
   "id": "df01559ded825f3c",
   "metadata": {
    "ExecuteTime": {
     "end_time": "2024-05-14T00:21:10.382410Z",
     "start_time": "2024-05-14T00:21:10.374410Z"
    }
   },
   "outputs": [
    {
     "ename": "NameError",
     "evalue": "name 'X_smote' is not defined",
     "output_type": "error",
     "traceback": [
      "\u001b[1;31m---------------------------------------------------------------------------\u001b[0m",
      "\u001b[1;31mNameError\u001b[0m                                 Traceback (most recent call last)",
      "Cell \u001b[1;32mIn[1], line 8\u001b[0m\n\u001b[0;32m      6\u001b[0m \u001b[38;5;66;03m# Instancia o SelectKBest\u001b[39;00m\n\u001b[0;32m      7\u001b[0m seletor \u001b[38;5;241m=\u001b[39m SelectKBest(score_func\u001b[38;5;241m=\u001b[39mchi2, k\u001b[38;5;241m=\u001b[39m\u001b[38;5;241m4\u001b[39m) \u001b[38;5;66;03m# O score_func é a função que será usada para calcular a importância das variáveis. O chi2 é uma função estatística que calcula a relação entre variáveis categóricas.\u001b[39;00m\n\u001b[1;32m----> 8\u001b[0m X_selecionado \u001b[38;5;241m=\u001b[39m seletor\u001b[38;5;241m.\u001b[39mfit_transform(X_smote, y_smote) \u001b[38;5;66;03m# Seleciona as variáveis mais importantes\u001b[39;00m\n\u001b[0;32m     10\u001b[0m X_selecionado\n",
      "\u001b[1;31mNameError\u001b[0m: name 'X_smote' is not defined"
     ]
    }
   ],
   "source": [
    "# Vamos selecionar as variáveis mais importantes na hora de prever se um pokémon é lendário ou não.\n",
    "\n",
    "from sklearn.feature_selection import SelectKBest\n",
    "from sklearn.feature_selection import chi2\n",
    "\n",
    "# Instancia o SelectKBest\n",
    "seletor = SelectKBest(score_func=chi2, k=4) # O score_func é a função que será usada para calcular a importância das variáveis. O chi2 é uma função estatística que calcula a relação entre variáveis categóricas.\n",
    "X_selecionado = seletor.fit_transform(X_smote, y_smote) # Seleciona as variáveis mais importantes já escaladas com o smote, ou seja, com os dados balanceados dos pokemons lendários e não lendários. Evitando assim, um viés na seleção das variáveis.\n",
    "\n",
    "X_selecionado"
   ]
  },
  {
   "cell_type": "code",
   "execution_count": null,
   "id": "9269391144c46af3",
   "metadata": {
    "ExecuteTime": {
     "end_time": "2024-05-14T00:38:40.390644Z",
     "start_time": "2024-05-14T00:38:40.385115Z"
    }
   },
   "outputs": [
    {
     "data": {
      "text/plain": [
       "Index(['total', 'sp_atq', 'sp_def', 'velocidade'], dtype='object')"
      ]
     },
     "execution_count": 65,
     "metadata": {},
     "output_type": "execute_result"
    }
   ],
   "source": [
    "# Vamos ver quais variáveis foram selecionadas\n",
    "seletor.get_support() # Retorna um array booleano indicando as variáveis selecionadas\n",
    "# Vamos ver o nome das variáveis selecionadas\n",
    "X.columns[seletor.get_support()] # Retorna o nome das variáveis selecionadas"
   ]
  },
  {
   "cell_type": "markdown",
   "id": "c52ed47b",
   "metadata": {},
   "source": [
    "Aqui vemos que as variáveis que mais dizem algo relevante, onde há mais discrepâncias e dados valiososm estão nas colunas \"total\", \"sp_atq\" (super ataque), \"sp_def\" (super defesa) e \"velocidade\""
   ]
  },
  {
   "cell_type": "code",
   "execution_count": null,
   "id": "cc18d1ce0aa07ebf",
   "metadata": {},
   "outputs": [],
   "source": []
  },
  {
   "cell_type": "code",
   "execution_count": null,
   "id": "34643d91",
   "metadata": {},
   "outputs": [],
   "source": []
  }
 ],
 "metadata": {
  "kernelspec": {
   "display_name": "Python 3",
   "language": "python",
   "name": "python3"
  },
  "language_info": {
   "codemirror_mode": {
    "name": "ipython",
    "version": 3
   },
   "file_extension": ".py",
   "mimetype": "text/x-python",
   "name": "python",
   "nbconvert_exporter": "python",
   "pygments_lexer": "ipython3",
   "version": "3.11.5"
  }
 },
 "nbformat": 4,
 "nbformat_minor": 5
}
